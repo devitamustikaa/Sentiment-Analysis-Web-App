{
 "cells": [
  {
   "cell_type": "markdown",
   "metadata": {
    "id": "auggvjlPbRxN"
   },
   "source": [
    "## Plan of Action\n",
    "\n",
    "\n",
    "1.   We are using **Amazon Alexa Reviews dataset (3150 reviews)**, that contains: **customer reviews, rating out of 5**, date of review, Alexa variant \n",
    "2.   First we  **generate sentiment labels: positive/negative**, by marking *positive for reviews with rating >3 and negative for remaining*\n",
    "3. Then, we **clean dataset through Ventorization Feature Engineering** (TF-IDF) - a popular technique\n",
    "4. Post that, we use **Support Vector Classifier for Model Fitting** and check for model performance (*we are getting >90% accuracy*)\n",
    "5. Last, we use our model to do **predictions on real Amazon reviews** using: a simple way and then a fancy way\n",
    "\n"
   ]
  },
  {
   "cell_type": "markdown",
   "metadata": {
    "id": "-z5wIxkEUaKx"
   },
   "source": [
    "## Import datasets"
   ]
  },
  {
   "cell_type": "code",
   "execution_count": 1,
   "metadata": {
    "id": "BQgQHj_g_Hrc"
   },
   "outputs": [],
   "source": [
    "import numpy as np\n",
    "import pandas as pd\n",
    "import matplotlib.pyplot as plt"
   ]
  },
  {
   "cell_type": "code",
   "execution_count": 2,
   "metadata": {},
   "outputs": [
    {
     "name": "stdout",
     "output_type": "stream",
     "text": [
      "Requirement already satisfied: spacy in c:\\users\\gopal\\anaconda3\\lib\\site-packages (3.2.2)\n",
      "Requirement already satisfied: packaging>=20.0 in c:\\users\\gopal\\anaconda3\\lib\\site-packages (from spacy) (21.0)\n",
      "Requirement already satisfied: murmurhash<1.1.0,>=0.28.0 in c:\\users\\gopal\\anaconda3\\lib\\site-packages (from spacy) (1.0.6)\n",
      "Requirement already satisfied: typer<0.5.0,>=0.3.0 in c:\\users\\gopal\\anaconda3\\lib\\site-packages (from spacy) (0.4.0)\n",
      "Requirement already satisfied: srsly<3.0.0,>=2.4.1 in c:\\users\\gopal\\anaconda3\\lib\\site-packages (from spacy) (2.4.2)\n",
      "Requirement already satisfied: preshed<3.1.0,>=3.0.2 in c:\\users\\gopal\\anaconda3\\lib\\site-packages (from spacy) (3.0.6)\n",
      "Requirement already satisfied: setuptools in c:\\users\\gopal\\anaconda3\\lib\\site-packages (from spacy) (58.0.4)\n",
      "Requirement already satisfied: pathy>=0.3.5 in c:\\users\\gopal\\anaconda3\\lib\\site-packages (from spacy) (0.6.1)\n",
      "Requirement already satisfied: requests<3.0.0,>=2.13.0 in c:\\users\\gopal\\anaconda3\\lib\\site-packages (from spacy) (2.26.0)\n",
      "Requirement already satisfied: blis<0.8.0,>=0.4.0 in c:\\users\\gopal\\anaconda3\\lib\\site-packages (from spacy) (0.7.5)\n",
      "Requirement already satisfied: spacy-loggers<2.0.0,>=1.0.0 in c:\\users\\gopal\\anaconda3\\lib\\site-packages (from spacy) (1.0.1)\n",
      "Requirement already satisfied: cymem<2.1.0,>=2.0.2 in c:\\users\\gopal\\anaconda3\\lib\\site-packages (from spacy) (2.0.6)\n",
      "Requirement already satisfied: thinc<8.1.0,>=8.0.12 in c:\\users\\gopal\\anaconda3\\lib\\site-packages (from spacy) (8.0.13)\n",
      "Requirement already satisfied: numpy>=1.15.0 in c:\\users\\gopal\\anaconda3\\lib\\site-packages (from spacy) (1.19.5)\n",
      "Requirement already satisfied: wasabi<1.1.0,>=0.8.1 in c:\\users\\gopal\\anaconda3\\lib\\site-packages (from spacy) (0.9.0)\n",
      "Requirement already satisfied: jinja2 in c:\\users\\gopal\\anaconda3\\lib\\site-packages (from spacy) (2.11.3)\n",
      "Requirement already satisfied: pydantic!=1.8,!=1.8.1,<1.9.0,>=1.7.4 in c:\\users\\gopal\\anaconda3\\lib\\site-packages (from spacy) (1.8.2)\n",
      "Requirement already satisfied: catalogue<2.1.0,>=2.0.6 in c:\\users\\gopal\\anaconda3\\lib\\site-packages (from spacy) (2.0.6)\n",
      "Requirement already satisfied: tqdm<5.0.0,>=4.38.0 in c:\\users\\gopal\\anaconda3\\lib\\site-packages (from spacy) (4.62.3)\n",
      "Requirement already satisfied: spacy-legacy<3.1.0,>=3.0.8 in c:\\users\\gopal\\anaconda3\\lib\\site-packages (from spacy) (3.0.8)\n",
      "Requirement already satisfied: langcodes<4.0.0,>=3.2.0 in c:\\users\\gopal\\anaconda3\\lib\\site-packages (from spacy) (3.3.0)\n",
      "Requirement already satisfied: pyparsing>=2.0.2 in c:\\users\\gopal\\anaconda3\\lib\\site-packages (from packaging>=20.0->spacy) (3.0.4)\n",
      "Requirement already satisfied: smart-open<6.0.0,>=5.0.0 in c:\\users\\gopal\\anaconda3\\lib\\site-packages (from pathy>=0.3.5->spacy) (5.2.1)\n",
      "Requirement already satisfied: typing-extensions>=3.7.4.3 in c:\\users\\gopal\\anaconda3\\lib\\site-packages (from pydantic!=1.8,!=1.8.1,<1.9.0,>=1.7.4->spacy) (3.10.0.2)\n",
      "Requirement already satisfied: urllib3<1.27,>=1.21.1 in c:\\users\\gopal\\anaconda3\\lib\\site-packages (from requests<3.0.0,>=2.13.0->spacy) (1.26.7)\n",
      "Requirement already satisfied: charset-normalizer~=2.0.0 in c:\\users\\gopal\\anaconda3\\lib\\site-packages (from requests<3.0.0,>=2.13.0->spacy) (2.0.4)\n",
      "Requirement already satisfied: certifi>=2017.4.17 in c:\\users\\gopal\\anaconda3\\lib\\site-packages (from requests<3.0.0,>=2.13.0->spacy) (2021.10.8)\n",
      "Requirement already satisfied: idna<4,>=2.5 in c:\\users\\gopal\\anaconda3\\lib\\site-packages (from requests<3.0.0,>=2.13.0->spacy) (3.2)\n",
      "Requirement already satisfied: colorama in c:\\users\\gopal\\anaconda3\\lib\\site-packages (from tqdm<5.0.0,>=4.38.0->spacy) (0.4.4)\n",
      "Requirement already satisfied: click<9.0.0,>=7.1.1 in c:\\users\\gopal\\anaconda3\\lib\\site-packages (from typer<0.5.0,>=0.3.0->spacy) (8.0.3)\n",
      "Requirement already satisfied: MarkupSafe>=0.23 in c:\\users\\gopal\\anaconda3\\lib\\site-packages (from jinja2->spacy) (2.0.1)\n"
     ]
    }
   ],
   "source": [
    "!pip install spacy\n",
    "import spacy"
   ]
  },
  {
   "cell_type": "code",
   "execution_count": 3,
   "metadata": {},
   "outputs": [
    {
     "name": "stdout",
     "output_type": "stream",
     "text": [
      "Collecting en-core-web-sm==3.2.0\n",
      "  Downloading https://github.com/explosion/spacy-models/releases/download/en_core_web_sm-3.2.0/en_core_web_sm-3.2.0-py3-none-any.whl (13.9 MB)\n",
      "Requirement already satisfied: spacy<3.3.0,>=3.2.0 in c:\\users\\gopal\\anaconda3\\lib\\site-packages (from en-core-web-sm==3.2.0) (3.2.2)\n",
      "Requirement already satisfied: preshed<3.1.0,>=3.0.2 in c:\\users\\gopal\\anaconda3\\lib\\site-packages (from spacy<3.3.0,>=3.2.0->en-core-web-sm==3.2.0) (3.0.6)\n",
      "Requirement already satisfied: pydantic!=1.8,!=1.8.1,<1.9.0,>=1.7.4 in c:\\users\\gopal\\anaconda3\\lib\\site-packages (from spacy<3.3.0,>=3.2.0->en-core-web-sm==3.2.0) (1.8.2)\n",
      "Requirement already satisfied: requests<3.0.0,>=2.13.0 in c:\\users\\gopal\\anaconda3\\lib\\site-packages (from spacy<3.3.0,>=3.2.0->en-core-web-sm==3.2.0) (2.26.0)\n",
      "Requirement already satisfied: spacy-legacy<3.1.0,>=3.0.8 in c:\\users\\gopal\\anaconda3\\lib\\site-packages (from spacy<3.3.0,>=3.2.0->en-core-web-sm==3.2.0) (3.0.8)\n",
      "Requirement already satisfied: setuptools in c:\\users\\gopal\\anaconda3\\lib\\site-packages (from spacy<3.3.0,>=3.2.0->en-core-web-sm==3.2.0) (58.0.4)\n",
      "Requirement already satisfied: typer<0.5.0,>=0.3.0 in c:\\users\\gopal\\anaconda3\\lib\\site-packages (from spacy<3.3.0,>=3.2.0->en-core-web-sm==3.2.0) (0.4.0)\n",
      "Requirement already satisfied: blis<0.8.0,>=0.4.0 in c:\\users\\gopal\\anaconda3\\lib\\site-packages (from spacy<3.3.0,>=3.2.0->en-core-web-sm==3.2.0) (0.7.5)\n",
      "Requirement already satisfied: srsly<3.0.0,>=2.4.1 in c:\\users\\gopal\\anaconda3\\lib\\site-packages (from spacy<3.3.0,>=3.2.0->en-core-web-sm==3.2.0) (2.4.2)\n",
      "Requirement already satisfied: thinc<8.1.0,>=8.0.12 in c:\\users\\gopal\\anaconda3\\lib\\site-packages (from spacy<3.3.0,>=3.2.0->en-core-web-sm==3.2.0) (8.0.13)\n",
      "Requirement already satisfied: langcodes<4.0.0,>=3.2.0 in c:\\users\\gopal\\anaconda3\\lib\\site-packages (from spacy<3.3.0,>=3.2.0->en-core-web-sm==3.2.0) (3.3.0)\n",
      "Requirement already satisfied: numpy>=1.15.0 in c:\\users\\gopal\\anaconda3\\lib\\site-packages (from spacy<3.3.0,>=3.2.0->en-core-web-sm==3.2.0) (1.19.5)\n",
      "Requirement already satisfied: catalogue<2.1.0,>=2.0.6 in c:\\users\\gopal\\anaconda3\\lib\\site-packages (from spacy<3.3.0,>=3.2.0->en-core-web-sm==3.2.0) (2.0.6)\n",
      "Requirement already satisfied: wasabi<1.1.0,>=0.8.1 in c:\\users\\gopal\\anaconda3\\lib\\site-packages (from spacy<3.3.0,>=3.2.0->en-core-web-sm==3.2.0) (0.9.0)\n",
      "Requirement already satisfied: spacy-loggers<2.0.0,>=1.0.0 in c:\\users\\gopal\\anaconda3\\lib\\site-packages (from spacy<3.3.0,>=3.2.0->en-core-web-sm==3.2.0) (1.0.1)\n",
      "Requirement already satisfied: cymem<2.1.0,>=2.0.2 in c:\\users\\gopal\\anaconda3\\lib\\site-packages (from spacy<3.3.0,>=3.2.0->en-core-web-sm==3.2.0) (2.0.6)\n",
      "Requirement already satisfied: tqdm<5.0.0,>=4.38.0 in c:\\users\\gopal\\anaconda3\\lib\\site-packages (from spacy<3.3.0,>=3.2.0->en-core-web-sm==3.2.0) (4.62.3)\n",
      "Requirement already satisfied: jinja2 in c:\\users\\gopal\\anaconda3\\lib\\site-packages (from spacy<3.3.0,>=3.2.0->en-core-web-sm==3.2.0) (2.11.3)\n",
      "Requirement already satisfied: murmurhash<1.1.0,>=0.28.0 in c:\\users\\gopal\\anaconda3\\lib\\site-packages (from spacy<3.3.0,>=3.2.0->en-core-web-sm==3.2.0) (1.0.6)\n",
      "Requirement already satisfied: packaging>=20.0 in c:\\users\\gopal\\anaconda3\\lib\\site-packages (from spacy<3.3.0,>=3.2.0->en-core-web-sm==3.2.0) (21.0)\n",
      "Requirement already satisfied: pathy>=0.3.5 in c:\\users\\gopal\\anaconda3\\lib\\site-packages (from spacy<3.3.0,>=3.2.0->en-core-web-sm==3.2.0) (0.6.1)\n",
      "Requirement already satisfied: pyparsing>=2.0.2 in c:\\users\\gopal\\anaconda3\\lib\\site-packages (from packaging>=20.0->spacy<3.3.0,>=3.2.0->en-core-web-sm==3.2.0) (3.0.4)\n",
      "Requirement already satisfied: smart-open<6.0.0,>=5.0.0 in c:\\users\\gopal\\anaconda3\\lib\\site-packages (from pathy>=0.3.5->spacy<3.3.0,>=3.2.0->en-core-web-sm==3.2.0) (5.2.1)\n",
      "Requirement already satisfied: typing-extensions>=3.7.4.3 in c:\\users\\gopal\\anaconda3\\lib\\site-packages (from pydantic!=1.8,!=1.8.1,<1.9.0,>=1.7.4->spacy<3.3.0,>=3.2.0->en-core-web-sm==3.2.0) (3.10.0.2)\n",
      "Requirement already satisfied: certifi>=2017.4.17 in c:\\users\\gopal\\anaconda3\\lib\\site-packages (from requests<3.0.0,>=2.13.0->spacy<3.3.0,>=3.2.0->en-core-web-sm==3.2.0) (2021.10.8)\n",
      "Requirement already satisfied: idna<4,>=2.5 in c:\\users\\gopal\\anaconda3\\lib\\site-packages (from requests<3.0.0,>=2.13.0->spacy<3.3.0,>=3.2.0->en-core-web-sm==3.2.0) (3.2)\n",
      "Requirement already satisfied: charset-normalizer~=2.0.0 in c:\\users\\gopal\\anaconda3\\lib\\site-packages (from requests<3.0.0,>=2.13.0->spacy<3.3.0,>=3.2.0->en-core-web-sm==3.2.0) (2.0.4)\n",
      "Requirement already satisfied: urllib3<1.27,>=1.21.1 in c:\\users\\gopal\\anaconda3\\lib\\site-packages (from requests<3.0.0,>=2.13.0->spacy<3.3.0,>=3.2.0->en-core-web-sm==3.2.0) (1.26.7)\n",
      "Requirement already satisfied: colorama in c:\\users\\gopal\\anaconda3\\lib\\site-packages (from tqdm<5.0.0,>=4.38.0->spacy<3.3.0,>=3.2.0->en-core-web-sm==3.2.0) (0.4.4)\n",
      "Requirement already satisfied: click<9.0.0,>=7.1.1 in c:\\users\\gopal\\anaconda3\\lib\\site-packages (from typer<0.5.0,>=0.3.0->spacy<3.3.0,>=3.2.0->en-core-web-sm==3.2.0) (8.0.3)\n",
      "Requirement already satisfied: MarkupSafe>=0.23 in c:\\users\\gopal\\anaconda3\\lib\\site-packages (from jinja2->spacy<3.3.0,>=3.2.0->en-core-web-sm==3.2.0) (2.0.1)\n",
      "[!] As of spaCy v3.0, shortcuts like 'en' are deprecated. Please use the full\n",
      "pipeline package name 'en_core_web_sm' instead.\n",
      "[+] Download and installation successful\n",
      "You can now load the package via spacy.load('en_core_web_sm')\n"
     ]
    }
   ],
   "source": [
    "!python -m spacy download en"
   ]
  },
  {
   "cell_type": "code",
   "execution_count": 4,
   "metadata": {},
   "outputs": [],
   "source": [
    "nlp = spacy.load('en_core_web_sm')"
   ]
  },
  {
   "cell_type": "markdown",
   "metadata": {
    "colab": {
     "base_uri": "https://localhost:8080/"
    },
    "executionInfo": {
     "elapsed": 736,
     "status": "ok",
     "timestamp": 1643786326411,
     "user": {
      "displayName": "SKILLCATE",
      "photoUrl": "https://lh3.googleusercontent.com/a-/AOh14GhT5e7MnDmh2dcfNhKDOV8oRoeRJVinedzmD2Su=s64",
      "userId": "11062674699417926870"
     },
     "user_tz": -330
    },
    "id": "f-H7y2SIwWh3",
    "outputId": "a6997a18-86f2-4b0d-ddef-f0a4b1c81a6a"
   },
   "source": [
    "Set your working directory  here\n",
    "\n",
    "If you are using Google Colab, use this code snippet:\n",
    "\n",
    "```from google.colab import drive\n",
    "drive.mount('/content/drive')```\n",
    "\n",
    "```%cd /content/drive/My Drive/Project6_SentimentAnalysis_with_Pipeline```\n",
    "\n",
    "If you are working locally on PC, keep training data in the same directory as this code file"
   ]
  },
  {
   "cell_type": "code",
   "execution_count": 5,
   "metadata": {
    "colab": {
     "base_uri": "https://localhost:8080/",
     "height": 423
    },
    "executionInfo": {
     "elapsed": 784,
     "status": "ok",
     "timestamp": 1643786412453,
     "user": {
      "displayName": "SKILLCATE",
      "photoUrl": "https://lh3.googleusercontent.com/a-/AOh14GhT5e7MnDmh2dcfNhKDOV8oRoeRJVinedzmD2Su=s64",
      "userId": "11062674699417926870"
     },
     "user_tz": -330
    },
    "id": "zwnN_CQGzRJM",
    "outputId": "bed5aba9-3cd4-4bd6-d6ff-f5578f3ac949"
   },
   "outputs": [
    {
     "data": {
      "text/html": [
       "<div>\n",
       "<style scoped>\n",
       "    .dataframe tbody tr th:only-of-type {\n",
       "        vertical-align: middle;\n",
       "    }\n",
       "\n",
       "    .dataframe tbody tr th {\n",
       "        vertical-align: top;\n",
       "    }\n",
       "\n",
       "    .dataframe thead th {\n",
       "        text-align: right;\n",
       "    }\n",
       "</style>\n",
       "<table border=\"1\" class=\"dataframe\">\n",
       "  <thead>\n",
       "    <tr style=\"text-align: right;\">\n",
       "      <th></th>\n",
       "      <th>rating</th>\n",
       "      <th>date</th>\n",
       "      <th>variation</th>\n",
       "      <th>verified_reviews</th>\n",
       "      <th>feedback</th>\n",
       "    </tr>\n",
       "  </thead>\n",
       "  <tbody>\n",
       "    <tr>\n",
       "      <th>0</th>\n",
       "      <td>5</td>\n",
       "      <td>31-Jul-18</td>\n",
       "      <td>Charcoal Fabric</td>\n",
       "      <td>Love my Echo!</td>\n",
       "      <td>1</td>\n",
       "    </tr>\n",
       "    <tr>\n",
       "      <th>1</th>\n",
       "      <td>5</td>\n",
       "      <td>31-Jul-18</td>\n",
       "      <td>Charcoal Fabric</td>\n",
       "      <td>Loved it!</td>\n",
       "      <td>1</td>\n",
       "    </tr>\n",
       "    <tr>\n",
       "      <th>2</th>\n",
       "      <td>4</td>\n",
       "      <td>31-Jul-18</td>\n",
       "      <td>Walnut Finish</td>\n",
       "      <td>Sometimes while playing a game, you can answer...</td>\n",
       "      <td>1</td>\n",
       "    </tr>\n",
       "    <tr>\n",
       "      <th>3</th>\n",
       "      <td>5</td>\n",
       "      <td>31-Jul-18</td>\n",
       "      <td>Charcoal Fabric</td>\n",
       "      <td>I have had a lot of fun with this thing. My 4 ...</td>\n",
       "      <td>1</td>\n",
       "    </tr>\n",
       "    <tr>\n",
       "      <th>4</th>\n",
       "      <td>5</td>\n",
       "      <td>31-Jul-18</td>\n",
       "      <td>Charcoal Fabric</td>\n",
       "      <td>Music</td>\n",
       "      <td>1</td>\n",
       "    </tr>\n",
       "    <tr>\n",
       "      <th>...</th>\n",
       "      <td>...</td>\n",
       "      <td>...</td>\n",
       "      <td>...</td>\n",
       "      <td>...</td>\n",
       "      <td>...</td>\n",
       "    </tr>\n",
       "    <tr>\n",
       "      <th>3145</th>\n",
       "      <td>5</td>\n",
       "      <td>30-Jul-18</td>\n",
       "      <td>Black  Dot</td>\n",
       "      <td>Perfect for kids, adults and everyone in betwe...</td>\n",
       "      <td>1</td>\n",
       "    </tr>\n",
       "    <tr>\n",
       "      <th>3146</th>\n",
       "      <td>5</td>\n",
       "      <td>30-Jul-18</td>\n",
       "      <td>Black  Dot</td>\n",
       "      <td>Listening to music, searching locations, check...</td>\n",
       "      <td>1</td>\n",
       "    </tr>\n",
       "    <tr>\n",
       "      <th>3147</th>\n",
       "      <td>5</td>\n",
       "      <td>30-Jul-18</td>\n",
       "      <td>Black  Dot</td>\n",
       "      <td>I do love these things, i have them running my...</td>\n",
       "      <td>1</td>\n",
       "    </tr>\n",
       "    <tr>\n",
       "      <th>3148</th>\n",
       "      <td>5</td>\n",
       "      <td>30-Jul-18</td>\n",
       "      <td>White  Dot</td>\n",
       "      <td>Only complaint I have is that the sound qualit...</td>\n",
       "      <td>1</td>\n",
       "    </tr>\n",
       "    <tr>\n",
       "      <th>3149</th>\n",
       "      <td>4</td>\n",
       "      <td>29-Jul-18</td>\n",
       "      <td>Black  Dot</td>\n",
       "      <td>Good</td>\n",
       "      <td>1</td>\n",
       "    </tr>\n",
       "  </tbody>\n",
       "</table>\n",
       "<p>3150 rows × 5 columns</p>\n",
       "</div>"
      ],
      "text/plain": [
       "      rating       date         variation  \\\n",
       "0          5  31-Jul-18  Charcoal Fabric    \n",
       "1          5  31-Jul-18  Charcoal Fabric    \n",
       "2          4  31-Jul-18    Walnut Finish    \n",
       "3          5  31-Jul-18  Charcoal Fabric    \n",
       "4          5  31-Jul-18  Charcoal Fabric    \n",
       "...      ...        ...               ...   \n",
       "3145       5  30-Jul-18        Black  Dot   \n",
       "3146       5  30-Jul-18        Black  Dot   \n",
       "3147       5  30-Jul-18        Black  Dot   \n",
       "3148       5  30-Jul-18        White  Dot   \n",
       "3149       4  29-Jul-18        Black  Dot   \n",
       "\n",
       "                                       verified_reviews  feedback  \n",
       "0                                         Love my Echo!         1  \n",
       "1                                             Loved it!         1  \n",
       "2     Sometimes while playing a game, you can answer...         1  \n",
       "3     I have had a lot of fun with this thing. My 4 ...         1  \n",
       "4                                                 Music         1  \n",
       "...                                                 ...       ...  \n",
       "3145  Perfect for kids, adults and everyone in betwe...         1  \n",
       "3146  Listening to music, searching locations, check...         1  \n",
       "3147  I do love these things, i have them running my...         1  \n",
       "3148  Only complaint I have is that the sound qualit...         1  \n",
       "3149                                               Good         1  \n",
       "\n",
       "[3150 rows x 5 columns]"
      ]
     },
     "execution_count": 5,
     "metadata": {},
     "output_type": "execute_result"
    }
   ],
   "source": [
    "#Loading the dataset\n",
    "dump = pd.read_csv('alexa_reviews_dataset.tsv',sep='\\t') \n",
    "\n",
    "dump"
   ]
  },
  {
   "cell_type": "markdown",
   "metadata": {
    "id": "eS_QZCeEX45f"
   },
   "source": [
    "## Data Preparation"
   ]
  },
  {
   "cell_type": "code",
   "execution_count": 6,
   "metadata": {
    "colab": {
     "base_uri": "https://localhost:8080/",
     "height": 206
    },
    "executionInfo": {
     "elapsed": 713,
     "status": "ok",
     "timestamp": 1643786466114,
     "user": {
      "displayName": "SKILLCATE",
      "photoUrl": "https://lh3.googleusercontent.com/a-/AOh14GhT5e7MnDmh2dcfNhKDOV8oRoeRJVinedzmD2Su=s64",
      "userId": "11062674699417926870"
     },
     "user_tz": -330
    },
    "id": "VlIYFkfUzbMx",
    "outputId": "ac39a217-8c5c-43cd-b3a5-a2addb2d9be7"
   },
   "outputs": [
    {
     "data": {
      "text/html": [
       "<div>\n",
       "<style scoped>\n",
       "    .dataframe tbody tr th:only-of-type {\n",
       "        vertical-align: middle;\n",
       "    }\n",
       "\n",
       "    .dataframe tbody tr th {\n",
       "        vertical-align: top;\n",
       "    }\n",
       "\n",
       "    .dataframe thead th {\n",
       "        text-align: right;\n",
       "    }\n",
       "</style>\n",
       "<table border=\"1\" class=\"dataframe\">\n",
       "  <thead>\n",
       "    <tr style=\"text-align: right;\">\n",
       "      <th></th>\n",
       "      <th>Review</th>\n",
       "      <th>Sentiment</th>\n",
       "    </tr>\n",
       "  </thead>\n",
       "  <tbody>\n",
       "    <tr>\n",
       "      <th>0</th>\n",
       "      <td>Love my Echo!</td>\n",
       "      <td>5</td>\n",
       "    </tr>\n",
       "    <tr>\n",
       "      <th>1</th>\n",
       "      <td>Loved it!</td>\n",
       "      <td>5</td>\n",
       "    </tr>\n",
       "    <tr>\n",
       "      <th>2</th>\n",
       "      <td>Sometimes while playing a game, you can answer...</td>\n",
       "      <td>4</td>\n",
       "    </tr>\n",
       "    <tr>\n",
       "      <th>3</th>\n",
       "      <td>I have had a lot of fun with this thing. My 4 ...</td>\n",
       "      <td>5</td>\n",
       "    </tr>\n",
       "    <tr>\n",
       "      <th>4</th>\n",
       "      <td>Music</td>\n",
       "      <td>5</td>\n",
       "    </tr>\n",
       "  </tbody>\n",
       "</table>\n",
       "</div>"
      ],
      "text/plain": [
       "                                              Review  Sentiment\n",
       "0                                      Love my Echo!          5\n",
       "1                                          Loved it!          5\n",
       "2  Sometimes while playing a game, you can answer...          4\n",
       "3  I have had a lot of fun with this thing. My 4 ...          5\n",
       "4                                              Music          5"
      ]
     },
     "execution_count": 6,
     "metadata": {},
     "output_type": "execute_result"
    }
   ],
   "source": [
    "dataset = dump[['verified_reviews','rating']]\n",
    "dataset.columns = ['Review', 'Sentiment']\n",
    "\n",
    "dataset.head()"
   ]
  },
  {
   "cell_type": "code",
   "execution_count": 7,
   "metadata": {
    "id": "NOZZDqWe0zKZ"
   },
   "outputs": [],
   "source": [
    "# Creating a new column sentiment based on overall ratings\n",
    "def compute_sentiments(labels):\n",
    "  sentiments = []\n",
    "  for label in labels:\n",
    "    if label > 3.0:\n",
    "      sentiment = 1\n",
    "    elif label <= 3.0:\n",
    "      sentiment = 0\n",
    "    sentiments.append(sentiment)\n",
    "  return sentiments"
   ]
  },
  {
   "cell_type": "code",
   "execution_count": 8,
   "metadata": {
    "colab": {
     "base_uri": "https://localhost:8080/"
    },
    "executionInfo": {
     "elapsed": 714,
     "status": "ok",
     "timestamp": 1643786499319,
     "user": {
      "displayName": "SKILLCATE",
      "photoUrl": "https://lh3.googleusercontent.com/a-/AOh14GhT5e7MnDmh2dcfNhKDOV8oRoeRJVinedzmD2Su=s64",
      "userId": "11062674699417926870"
     },
     "user_tz": -330
    },
    "id": "pIjR4QPo04Aw",
    "outputId": "a9ce863d-65c6-4244-b255-398c1d1bf91a"
   },
   "outputs": [
    {
     "name": "stderr",
     "output_type": "stream",
     "text": [
      "C:\\Users\\Gopal\\AppData\\Local\\Temp/ipykernel_15128/1420225867.py:1: SettingWithCopyWarning: \n",
      "A value is trying to be set on a copy of a slice from a DataFrame.\n",
      "Try using .loc[row_indexer,col_indexer] = value instead\n",
      "\n",
      "See the caveats in the documentation: https://pandas.pydata.org/pandas-docs/stable/user_guide/indexing.html#returning-a-view-versus-a-copy\n",
      "  dataset['Sentiment'] = compute_sentiments(dataset.Sentiment)\n"
     ]
    }
   ],
   "source": [
    "dataset['Sentiment'] = compute_sentiments(dataset.Sentiment)"
   ]
  },
  {
   "cell_type": "code",
   "execution_count": 9,
   "metadata": {
    "colab": {
     "base_uri": "https://localhost:8080/",
     "height": 206
    },
    "executionInfo": {
     "elapsed": 711,
     "status": "ok",
     "timestamp": 1643786525514,
     "user": {
      "displayName": "SKILLCATE",
      "photoUrl": "https://lh3.googleusercontent.com/a-/AOh14GhT5e7MnDmh2dcfNhKDOV8oRoeRJVinedzmD2Su=s64",
      "userId": "11062674699417926870"
     },
     "user_tz": -330
    },
    "id": "KoyOZ3Ha1AGz",
    "outputId": "437e0031-e939-4f82-ef45-82ce42a7d324"
   },
   "outputs": [
    {
     "data": {
      "text/html": [
       "<div>\n",
       "<style scoped>\n",
       "    .dataframe tbody tr th:only-of-type {\n",
       "        vertical-align: middle;\n",
       "    }\n",
       "\n",
       "    .dataframe tbody tr th {\n",
       "        vertical-align: top;\n",
       "    }\n",
       "\n",
       "    .dataframe thead th {\n",
       "        text-align: right;\n",
       "    }\n",
       "</style>\n",
       "<table border=\"1\" class=\"dataframe\">\n",
       "  <thead>\n",
       "    <tr style=\"text-align: right;\">\n",
       "      <th></th>\n",
       "      <th>Review</th>\n",
       "      <th>Sentiment</th>\n",
       "    </tr>\n",
       "  </thead>\n",
       "  <tbody>\n",
       "    <tr>\n",
       "      <th>0</th>\n",
       "      <td>Love my Echo!</td>\n",
       "      <td>1</td>\n",
       "    </tr>\n",
       "    <tr>\n",
       "      <th>1</th>\n",
       "      <td>Loved it!</td>\n",
       "      <td>1</td>\n",
       "    </tr>\n",
       "    <tr>\n",
       "      <th>2</th>\n",
       "      <td>Sometimes while playing a game, you can answer...</td>\n",
       "      <td>1</td>\n",
       "    </tr>\n",
       "    <tr>\n",
       "      <th>3</th>\n",
       "      <td>I have had a lot of fun with this thing. My 4 ...</td>\n",
       "      <td>1</td>\n",
       "    </tr>\n",
       "    <tr>\n",
       "      <th>4</th>\n",
       "      <td>Music</td>\n",
       "      <td>1</td>\n",
       "    </tr>\n",
       "  </tbody>\n",
       "</table>\n",
       "</div>"
      ],
      "text/plain": [
       "                                              Review  Sentiment\n",
       "0                                      Love my Echo!          1\n",
       "1                                          Loved it!          1\n",
       "2  Sometimes while playing a game, you can answer...          1\n",
       "3  I have had a lot of fun with this thing. My 4 ...          1\n",
       "4                                              Music          1"
      ]
     },
     "execution_count": 9,
     "metadata": {},
     "output_type": "execute_result"
    }
   ],
   "source": [
    "dataset.head()"
   ]
  },
  {
   "cell_type": "code",
   "execution_count": 10,
   "metadata": {
    "colab": {
     "base_uri": "https://localhost:8080/"
    },
    "executionInfo": {
     "elapsed": 715,
     "status": "ok",
     "timestamp": 1643786544244,
     "user": {
      "displayName": "SKILLCATE",
      "photoUrl": "https://lh3.googleusercontent.com/a-/AOh14GhT5e7MnDmh2dcfNhKDOV8oRoeRJVinedzmD2Su=s64",
      "userId": "11062674699417926870"
     },
     "user_tz": -330
    },
    "id": "tmBZbWOCR-p3",
    "outputId": "0b85503c-e17a-4b4f-ab71-a4f38a10ace5"
   },
   "outputs": [
    {
     "data": {
      "text/plain": [
       "1    2741\n",
       "0     409\n",
       "Name: Sentiment, dtype: int64"
      ]
     },
     "execution_count": 10,
     "metadata": {},
     "output_type": "execute_result"
    }
   ],
   "source": [
    "# check distribution of sentiments\n",
    "\n",
    "dataset['Sentiment'].value_counts()"
   ]
  },
  {
   "cell_type": "code",
   "execution_count": 11,
   "metadata": {
    "colab": {
     "base_uri": "https://localhost:8080/"
    },
    "executionInfo": {
     "elapsed": 5,
     "status": "ok",
     "timestamp": 1643786549233,
     "user": {
      "displayName": "SKILLCATE",
      "photoUrl": "https://lh3.googleusercontent.com/a-/AOh14GhT5e7MnDmh2dcfNhKDOV8oRoeRJVinedzmD2Su=s64",
      "userId": "11062674699417926870"
     },
     "user_tz": -330
    },
    "id": "_Cuulg5nT9Fd",
    "outputId": "332978ab-5d9f-4613-df72-b436791c53fa"
   },
   "outputs": [
    {
     "data": {
      "text/plain": [
       "Review       0\n",
       "Sentiment    0\n",
       "dtype: int64"
      ]
     },
     "execution_count": 11,
     "metadata": {},
     "output_type": "execute_result"
    }
   ],
   "source": [
    "# check for null values\n",
    "dataset.isnull().sum()\n",
    "\n",
    "# no null values in the data"
   ]
  },
  {
   "cell_type": "markdown",
   "metadata": {
    "id": "3uOoNB4vUhiv"
   },
   "source": [
    "### Data Cleaning"
   ]
  },
  {
   "cell_type": "code",
   "execution_count": 12,
   "metadata": {
    "id": "XCPpUC--BNLW"
   },
   "outputs": [],
   "source": [
    "x = dataset['Review']\n",
    "y = dataset['Sentiment']"
   ]
  },
  {
   "cell_type": "code",
   "execution_count": 13,
   "metadata": {
    "id": "pfe9U2w2AUrI"
   },
   "outputs": [],
   "source": [
    "# Create a function to clean data \n",
    "# We shall remove stopwords, punctuations & apply lemmatization"
   ]
  },
  {
   "cell_type": "code",
   "execution_count": 14,
   "metadata": {
    "id": "xiut-KzPUjyx"
   },
   "outputs": [],
   "source": [
    "# import string\n",
    "# from spacy.lang.en.stop_words import STOP_WORDS"
   ]
  },
  {
   "cell_type": "code",
   "execution_count": 15,
   "metadata": {
    "id": "ZTfcWsAuWCSN"
   },
   "outputs": [],
   "source": [
    "from custom_tokenizer_function import CustomTokenizer\n",
    "\n",
    "# # creating a function for data cleaning\n",
    "\n",
    "# def text_data_cleaning(sentence):\n",
    "#   doc = nlp(sentence)                         # spaCy tokenize text & call doc components, in order\n",
    "\n",
    "#   tokens = [] # list of tokens\n",
    "#   for token in doc:\n",
    "#     if token.lemma_ != \"-PRON-\":\n",
    "#       temp = token.lemma_.lower().strip()\n",
    "#     else:\n",
    "#       temp = token.lower_\n",
    "#     tokens.append(temp)\n",
    " \n",
    "#   cleaned_tokens = []\n",
    "#   for token in tokens:\n",
    "#     if token not in stopwords and token not in punct:\n",
    "#       cleaned_tokens.append(token)\n",
    "#   return cleaned_tokens"
   ]
  },
  {
   "cell_type": "code",
   "execution_count": 16,
   "metadata": {
    "id": "uKsnnULWzDAn"
   },
   "outputs": [],
   "source": [
    "# if root form of that word is not pronoun then it is going to convert that into lower form\n",
    "# and if that word is a proper noun, then we are directly taking lower form,\n",
    "# because there is no lemma for proper noun"
   ]
  },
  {
   "cell_type": "code",
   "execution_count": 17,
   "metadata": {
    "colab": {
     "base_uri": "https://localhost:8080/"
    },
    "executionInfo": {
     "elapsed": 720,
     "status": "ok",
     "timestamp": 1643787692930,
     "user": {
      "displayName": "SKILLCATE",
      "photoUrl": "https://lh3.googleusercontent.com/a-/AOh14GhT5e7MnDmh2dcfNhKDOV8oRoeRJVinedzmD2Su=s64",
      "userId": "11062674699417926870"
     },
     "user_tz": -330
    },
    "id": "VHgVcoYFyStv",
    "outputId": "b6e175ea-228c-4465-dda2-8fecd3e25cf5"
   },
   "outputs": [
    {
     "data": {
      "text/plain": [
       "['hello', 'beautiful', 'day', 'outside']"
      ]
     },
     "execution_count": 17,
     "metadata": {},
     "output_type": "execute_result"
    }
   ],
   "source": [
    "# let's do a test\n",
    "custom_tokenizer = CustomTokenizer()\n",
    "custom_tokenizer.text_data_cleaning(\"Hello all, It's a beautiful day outside there!\")\n",
    "# stopwords and punctuations removed"
   ]
  },
  {
   "cell_type": "markdown",
   "metadata": {
    "id": "gb-4E3Xj0MZI"
   },
   "source": [
    "### Vectorization Feature Engineering (TF-IDF)"
   ]
  },
  {
   "cell_type": "code",
   "execution_count": 18,
   "metadata": {
    "id": "EHlWW9D10XwB"
   },
   "outputs": [],
   "source": [
    "from sklearn.svm import LinearSVC\n",
    "from sklearn.feature_extraction.text import TfidfVectorizer\n",
    "from sklearn.pipeline import Pipeline"
   ]
  },
  {
   "cell_type": "code",
   "execution_count": 19,
   "metadata": {
    "id": "3OZuzO9c0mhq"
   },
   "outputs": [],
   "source": [
    "tfidf = TfidfVectorizer(tokenizer=custom_tokenizer.text_data_cleaning)\n",
    "# tokenizer=text_data_cleaning, tokenization will be done according to this function"
   ]
  },
  {
   "cell_type": "markdown",
   "metadata": {
    "id": "GaJPf_MWAiUk"
   },
   "source": [
    "## Train the model"
   ]
  },
  {
   "cell_type": "markdown",
   "metadata": {
    "id": "BkEiNIFwBfgM"
   },
   "source": [
    "### Train/ Test Split"
   ]
  },
  {
   "cell_type": "code",
   "execution_count": 20,
   "metadata": {
    "id": "Qeqrb1Es1LyF"
   },
   "outputs": [],
   "source": [
    "from sklearn.model_selection import train_test_split\n",
    "x_train, x_test, y_train, y_test = train_test_split(x, y, test_size = 0.2, stratify = dataset.Sentiment, random_state = 0)"
   ]
  },
  {
   "cell_type": "code",
   "execution_count": 21,
   "metadata": {
    "colab": {
     "base_uri": "https://localhost:8080/"
    },
    "executionInfo": {
     "elapsed": 4,
     "status": "ok",
     "timestamp": 1643787711353,
     "user": {
      "displayName": "SKILLCATE",
      "photoUrl": "https://lh3.googleusercontent.com/a-/AOh14GhT5e7MnDmh2dcfNhKDOV8oRoeRJVinedzmD2Su=s64",
      "userId": "11062674699417926870"
     },
     "user_tz": -330
    },
    "id": "DUX2gNXl1Q8c",
    "outputId": "75e6f894-c489-425d-a942-6646cc845d9c"
   },
   "outputs": [
    {
     "data": {
      "text/plain": [
       "((2520,), (630,))"
      ]
     },
     "execution_count": 21,
     "metadata": {},
     "output_type": "execute_result"
    }
   ],
   "source": [
    "x_train.shape, x_test.shape\n",
    "# 2520 samples in training dataset and 630 in test dataset"
   ]
  },
  {
   "cell_type": "markdown",
   "metadata": {
    "id": "vrCsAstOAwa6"
   },
   "source": [
    "### Fit x_train and y_train"
   ]
  },
  {
   "cell_type": "code",
   "execution_count": 22,
   "metadata": {
    "id": "kgu3SPK61G3T"
   },
   "outputs": [],
   "source": [
    "classifier = LinearSVC()"
   ]
  },
  {
   "cell_type": "code",
   "execution_count": 23,
   "metadata": {
    "id": "iuVdiRzP26sc"
   },
   "outputs": [],
   "source": [
    "pipeline = Pipeline([('tfidf',tfidf), ('clf',classifier)])\n",
    "# it will first do vectorization and then it will do classification"
   ]
  },
  {
   "cell_type": "code",
   "execution_count": 24,
   "metadata": {
    "colab": {
     "base_uri": "https://localhost:8080/"
    },
    "executionInfo": {
     "elapsed": 31315,
     "status": "ok",
     "timestamp": 1643787756540,
     "user": {
      "displayName": "SKILLCATE",
      "photoUrl": "https://lh3.googleusercontent.com/a-/AOh14GhT5e7MnDmh2dcfNhKDOV8oRoeRJVinedzmD2Su=s64",
      "userId": "11062674699417926870"
     },
     "user_tz": -330
    },
    "id": "IpxdCk475DKW",
    "outputId": "9759e67b-f457-4bfe-db63-47ae143d833c"
   },
   "outputs": [
    {
     "data": {
      "text/plain": [
       "Pipeline(steps=[('tfidf',\n",
       "                 TfidfVectorizer(tokenizer=<bound method CustomTokenizer.text_data_cleaning of <custom_tokenizer_function.CustomTokenizer object at 0x000001DED36C4040>>)),\n",
       "                ('clf', LinearSVC())])"
      ]
     },
     "execution_count": 24,
     "metadata": {},
     "output_type": "execute_result"
    }
   ],
   "source": [
    "pipeline.fit(x_train, y_train)"
   ]
  },
  {
   "cell_type": "code",
   "execution_count": 25,
   "metadata": {
    "id": "oAH9-v355Jua"
   },
   "outputs": [],
   "source": [
    "# in this we don't need to prepare the dataset for testing(x_test)"
   ]
  },
  {
   "cell_type": "code",
   "execution_count": 26,
   "metadata": {
    "colab": {
     "base_uri": "https://localhost:8080/"
    },
    "executionInfo": {
     "elapsed": 704,
     "status": "ok",
     "timestamp": 1643787897201,
     "user": {
      "displayName": "SKILLCATE",
      "photoUrl": "https://lh3.googleusercontent.com/a-/AOh14GhT5e7MnDmh2dcfNhKDOV8oRoeRJVinedzmD2Su=s64",
      "userId": "11062674699417926870"
     },
     "user_tz": -330
    },
    "id": "ZHJQPw77YrxV",
    "outputId": "b7ad94b4-e386-469e-c3e1-7ca6e00ebb11"
   },
   "outputs": [
    {
     "data": {
      "text/plain": [
       "['sentiment_model.pkl']"
      ]
     },
     "execution_count": 26,
     "metadata": {},
     "output_type": "execute_result"
    }
   ],
   "source": [
    "import joblib\n",
    "joblib.dump(pipeline,'sentiment_model.pkl')"
   ]
  },
  {
   "cell_type": "markdown",
   "metadata": {
    "id": "yCVFR5A25qaS"
   },
   "source": [
    "## Check Model Performance"
   ]
  },
  {
   "cell_type": "code",
   "execution_count": 27,
   "metadata": {
    "id": "xp3Nj55h5smN"
   },
   "outputs": [],
   "source": [
    "from sklearn.metrics import accuracy_score, classification_report, confusion_matrix"
   ]
  },
  {
   "cell_type": "code",
   "execution_count": 28,
   "metadata": {
    "id": "i2yugURA50Td"
   },
   "outputs": [],
   "source": [
    "y_pred = pipeline.predict(x_test)"
   ]
  },
  {
   "cell_type": "code",
   "execution_count": 29,
   "metadata": {
    "colab": {
     "base_uri": "https://localhost:8080/"
    },
    "executionInfo": {
     "elapsed": 945,
     "status": "ok",
     "timestamp": 1643788126203,
     "user": {
      "displayName": "SKILLCATE",
      "photoUrl": "https://lh3.googleusercontent.com/a-/AOh14GhT5e7MnDmh2dcfNhKDOV8oRoeRJVinedzmD2Su=s64",
      "userId": "11062674699417926870"
     },
     "user_tz": -330
    },
    "id": "xvt59nSM58ee",
    "outputId": "f0ae541a-ea74-4cc0-cf9e-56447abc8f8d"
   },
   "outputs": [
    {
     "data": {
      "text/plain": [
       "array([[ 39,  43],\n",
       "       [ 10, 538]], dtype=int64)"
      ]
     },
     "execution_count": 29,
     "metadata": {},
     "output_type": "execute_result"
    }
   ],
   "source": [
    "# confusion_matrix\n",
    "confusion_matrix(y_test, y_pred)"
   ]
  },
  {
   "cell_type": "code",
   "execution_count": 30,
   "metadata": {
    "colab": {
     "base_uri": "https://localhost:8080/"
    },
    "executionInfo": {
     "elapsed": 761,
     "status": "ok",
     "timestamp": 1643788133762,
     "user": {
      "displayName": "SKILLCATE",
      "photoUrl": "https://lh3.googleusercontent.com/a-/AOh14GhT5e7MnDmh2dcfNhKDOV8oRoeRJVinedzmD2Su=s64",
      "userId": "11062674699417926870"
     },
     "user_tz": -330
    },
    "id": "CoX7Jabd6Ar1",
    "outputId": "b9ecc0ee-334d-4016-ffbb-8aa3a9536dc4"
   },
   "outputs": [
    {
     "name": "stdout",
     "output_type": "stream",
     "text": [
      "              precision    recall  f1-score   support\n",
      "\n",
      "           0       0.80      0.48      0.60        82\n",
      "           1       0.93      0.98      0.95       548\n",
      "\n",
      "    accuracy                           0.92       630\n",
      "   macro avg       0.86      0.73      0.77       630\n",
      "weighted avg       0.91      0.92      0.91       630\n",
      "\n"
     ]
    }
   ],
   "source": [
    "# classification_report\n",
    "print(classification_report(y_test, y_pred))\n",
    "# we are getting almost 91% accuracy"
   ]
  },
  {
   "cell_type": "code",
   "execution_count": 31,
   "metadata": {
    "colab": {
     "base_uri": "https://localhost:8080/"
    },
    "executionInfo": {
     "elapsed": 764,
     "status": "ok",
     "timestamp": 1643788151989,
     "user": {
      "displayName": "SKILLCATE",
      "photoUrl": "https://lh3.googleusercontent.com/a-/AOh14GhT5e7MnDmh2dcfNhKDOV8oRoeRJVinedzmD2Su=s64",
      "userId": "11062674699417926870"
     },
     "user_tz": -330
    },
    "id": "d5cosLk16ChG",
    "outputId": "fe3f4b10-9975-4862-eaed-d45636e57e9d"
   },
   "outputs": [
    {
     "data": {
      "text/plain": [
       "91.59"
      ]
     },
     "execution_count": 31,
     "metadata": {},
     "output_type": "execute_result"
    }
   ],
   "source": [
    "round(accuracy_score(y_test, y_pred)*100,2)"
   ]
  },
  {
   "cell_type": "markdown",
   "metadata": {
    "id": "Zpo6jTiNaXYu"
   },
   "source": [
    "## Predict Sentiments using Model"
   ]
  },
  {
   "cell_type": "markdown",
   "metadata": {
    "id": "XDfwV9SHa6ZI"
   },
   "source": [
    "### Simple way"
   ]
  },
  {
   "cell_type": "code",
   "execution_count": 32,
   "metadata": {
    "colab": {
     "base_uri": "https://localhost:8080/"
    },
    "executionInfo": {
     "elapsed": 692,
     "status": "ok",
     "timestamp": 1643788219404,
     "user": {
      "displayName": "SKILLCATE",
      "photoUrl": "https://lh3.googleusercontent.com/a-/AOh14GhT5e7MnDmh2dcfNhKDOV8oRoeRJVinedzmD2Su=s64",
      "userId": "11062674699417926870"
     },
     "user_tz": -330
    },
    "id": "gYDMKDvcWzSk",
    "outputId": "577f75e1-2013-42cb-8ba7-a15d7a9d8329"
   },
   "outputs": [],
   "source": [
    "# prediction = pipeline.predict([\"Alexa is bad\"])\n",
    "\n",
    "# if prediction == 1:\n",
    "#   print(\"Result: This review is positive\")\n",
    "# else:\n",
    "#   print(\"Result: This review is negative\")"
   ]
  },
  {
   "cell_type": "markdown",
   "metadata": {
    "id": "QS1vi_onbJMh"
   },
   "source": [
    "### Fancy way"
   ]
  },
  {
   "cell_type": "code",
   "execution_count": 33,
   "metadata": {
    "colab": {
     "base_uri": "https://localhost:8080/"
    },
    "executionInfo": {
     "elapsed": 125457,
     "status": "ok",
     "timestamp": 1643788362443,
     "user": {
      "displayName": "SKILLCATE",
      "photoUrl": "https://lh3.googleusercontent.com/a-/AOh14GhT5e7MnDmh2dcfNhKDOV8oRoeRJVinedzmD2Su=s64",
      "userId": "11062674699417926870"
     },
     "user_tz": -330
    },
    "id": "PWQUC8QmG6-T",
    "outputId": "b2db3a4c-0533-40c7-a239-81788b70dd41"
   },
   "outputs": [],
   "source": [
    "# new_review = []\n",
    "# pred_sentiment = []\n",
    "\n",
    "# while True:\n",
    "  \n",
    "#   # ask for a new amazon alexa review\n",
    "#   review = input(\"Please type an Alexa review (Type 'skip' to exit) - \")\n",
    "\n",
    "#   if review == 'skip':\n",
    "#     print(\"See you soon!\")\n",
    "#     break\n",
    "#   else:\n",
    "#     prediction = pipeline.predict([review])\n",
    "\n",
    "#     if prediction == 1:\n",
    "#       result = 'Positive'\n",
    "#       print(\"Result: This review is positive\\n\")\n",
    "#     else:\n",
    "#       result = 'Negative'\n",
    "#       print(\"Result: This review is negative\\n\")\n",
    "  \n",
    "#   new_review.append(review)\n",
    "#   pred_sentiment.append(result)"
   ]
  },
  {
   "cell_type": "code",
   "execution_count": 34,
   "metadata": {
    "colab": {
     "base_uri": "https://localhost:8080/",
     "height": 237
    },
    "executionInfo": {
     "elapsed": 8,
     "status": "ok",
     "timestamp": 1643789450464,
     "user": {
      "displayName": "SKILLCATE",
      "photoUrl": "https://lh3.googleusercontent.com/a-/AOh14GhT5e7MnDmh2dcfNhKDOV8oRoeRJVinedzmD2Su=s64",
      "userId": "11062674699417926870"
     },
     "user_tz": -330
    },
    "id": "VIend1TIMy1s",
    "outputId": "b7808856-f61f-4591-9d7e-d86ac2cc5843"
   },
   "outputs": [],
   "source": [
    "# Results_Summary = pd.DataFrame(\n",
    "#     {'New Review': new_review,\n",
    "#      'Sentiment': pred_sentiment,\n",
    "#     })\n",
    "\n",
    "# Results_Summary.to_csv(\"./predicted_sentiments.tsv\", sep='\\t', encoding='UTF-8', index=False)\n",
    "# Results_Summary"
   ]
  }
 ],
 "metadata": {
  "colab": {
   "collapsed_sections": [],
   "name": "b1_SentimentAnalysis_with_Pipeline.ipynb",
   "provenance": [
    {
     "file_id": "1Dsyd5zB23upbCRDxlrh_r1P1wIlILCEa",
     "timestamp": 1642754413575
    }
   ],
   "toc_visible": true
  },
  "kernelspec": {
   "display_name": "Python 3 (ipykernel)",
   "language": "python",
   "name": "python3"
  },
  "language_info": {
   "codemirror_mode": {
    "name": "ipython",
    "version": 3
   },
   "file_extension": ".py",
   "mimetype": "text/x-python",
   "name": "python",
   "nbconvert_exporter": "python",
   "pygments_lexer": "ipython3",
   "version": "3.9.7"
  }
 },
 "nbformat": 4,
 "nbformat_minor": 1
}
